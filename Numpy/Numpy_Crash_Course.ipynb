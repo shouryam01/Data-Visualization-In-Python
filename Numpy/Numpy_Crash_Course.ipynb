{
 "cells": [
  {
   "cell_type": "markdown",
   "id": "936c6ee7",
   "metadata": {},
   "source": [
    "## NumPy"
   ]
  },
  {
   "cell_type": "code",
   "execution_count": 1,
   "id": "24909a8c",
   "metadata": {},
   "outputs": [],
   "source": [
    "import numpy as np"
   ]
  },
  {
   "cell_type": "markdown",
   "id": "4f7d7fd8",
   "metadata": {},
   "source": [
    "### np.array()"
   ]
  },
  {
   "cell_type": "code",
   "execution_count": 2,
   "id": "00a6fbc3",
   "metadata": {},
   "outputs": [],
   "source": [
    "l = [1, 2, 3, 4, 5]"
   ]
  },
  {
   "cell_type": "code",
   "execution_count": 8,
   "id": "c1ae6606",
   "metadata": {},
   "outputs": [],
   "source": [
    "npa = np.array(l)"
   ]
  },
  {
   "cell_type": "code",
   "execution_count": 9,
   "id": "108f65d3",
   "metadata": {},
   "outputs": [
    {
     "data": {
      "text/plain": [
       "(list, numpy.ndarray)"
      ]
     },
     "execution_count": 9,
     "metadata": {},
     "output_type": "execute_result"
    }
   ],
   "source": [
    "type(l), type(npa)"
   ]
  },
  {
   "cell_type": "code",
   "execution_count": 10,
   "id": "c535ad34",
   "metadata": {},
   "outputs": [
    {
     "data": {
      "text/plain": [
       "(5,)"
      ]
     },
     "execution_count": 10,
     "metadata": {},
     "output_type": "execute_result"
    }
   ],
   "source": [
    "npa.shape"
   ]
  },
  {
   "cell_type": "code",
   "execution_count": 14,
   "id": "492941f7",
   "metadata": {},
   "outputs": [],
   "source": [
    "l.append('string')"
   ]
  },
  {
   "cell_type": "code",
   "execution_count": 15,
   "id": "cefdeacc",
   "metadata": {},
   "outputs": [],
   "source": [
    "npa = np.array(l)"
   ]
  },
  {
   "cell_type": "code",
   "execution_count": 16,
   "id": "6e8d6dea",
   "metadata": {},
   "outputs": [
    {
     "data": {
      "text/plain": [
       "array(['1', '2', '3', '4', '5', '6', 'string'], dtype='<U21')"
      ]
     },
     "execution_count": 16,
     "metadata": {},
     "output_type": "execute_result"
    }
   ],
   "source": [
    "npa"
   ]
  },
  {
   "cell_type": "code",
   "execution_count": 17,
   "id": "c07f923b",
   "metadata": {},
   "outputs": [],
   "source": [
    "l1 = [1, 4, 9, 16]"
   ]
  },
  {
   "cell_type": "code",
   "execution_count": 18,
   "id": "3944c785",
   "metadata": {},
   "outputs": [
    {
     "data": {
      "text/plain": [
       "[1, 2, 3, 4, 5, 6, 'string', 1, 4, 9, 16]"
      ]
     },
     "execution_count": 18,
     "metadata": {},
     "output_type": "execute_result"
    }
   ],
   "source": [
    "l+l1"
   ]
  },
  {
   "cell_type": "code",
   "execution_count": 19,
   "id": "7a716564",
   "metadata": {},
   "outputs": [
    {
     "data": {
      "text/plain": [
       "array(['1', '2', '3', '4', '5', '6', 'string', '1', '4', '9', '16'],\n",
       "      dtype='<U21')"
      ]
     },
     "execution_count": 19,
     "metadata": {},
     "output_type": "execute_result"
    }
   ],
   "source": [
    "np.array(l+l1)"
   ]
  },
  {
   "cell_type": "code",
   "execution_count": 20,
   "id": "072aa4c9",
   "metadata": {},
   "outputs": [
    {
     "data": {
      "text/plain": [
       "[1, 2, 3, 4, 5, 6, 'string', 20]"
      ]
     },
     "execution_count": 20,
     "metadata": {},
     "output_type": "execute_result"
    }
   ],
   "source": [
    "l + [20]"
   ]
  },
  {
   "cell_type": "code",
   "execution_count": null,
   "id": "72056aa0",
   "metadata": {},
   "outputs": [],
   "source": []
  },
  {
   "cell_type": "code",
   "execution_count": 21,
   "id": "6369ca9d",
   "metadata": {},
   "outputs": [],
   "source": [
    "l = [[1,2], [3,4], [3,4]]"
   ]
  },
  {
   "cell_type": "code",
   "execution_count": 23,
   "id": "10be0231",
   "metadata": {},
   "outputs": [],
   "source": [
    "npa2d = np.array(l)"
   ]
  },
  {
   "cell_type": "code",
   "execution_count": 24,
   "id": "df8560b9",
   "metadata": {},
   "outputs": [
    {
     "data": {
      "text/plain": [
       "array([[1, 2],\n",
       "       [3, 4],\n",
       "       [3, 4]])"
      ]
     },
     "execution_count": 24,
     "metadata": {},
     "output_type": "execute_result"
    }
   ],
   "source": [
    "npa2d"
   ]
  },
  {
   "cell_type": "code",
   "execution_count": 25,
   "id": "49e0ab7b",
   "metadata": {},
   "outputs": [
    {
     "data": {
      "text/plain": [
       "(3, 2)"
      ]
     },
     "execution_count": 25,
     "metadata": {},
     "output_type": "execute_result"
    }
   ],
   "source": [
    "npa2d.shape"
   ]
  },
  {
   "cell_type": "code",
   "execution_count": 26,
   "id": "9d508fb2",
   "metadata": {},
   "outputs": [],
   "source": [
    "npa2d = np.array(l, dtype = 'float')"
   ]
  },
  {
   "cell_type": "code",
   "execution_count": 27,
   "id": "44a0f731",
   "metadata": {},
   "outputs": [
    {
     "data": {
      "text/plain": [
       "array([[1., 2.],\n",
       "       [3., 4.],\n",
       "       [3., 4.]])"
      ]
     },
     "execution_count": 27,
     "metadata": {},
     "output_type": "execute_result"
    }
   ],
   "source": [
    "npa2d"
   ]
  },
  {
   "cell_type": "code",
   "execution_count": 28,
   "id": "1d14b472",
   "metadata": {},
   "outputs": [
    {
     "data": {
      "text/plain": [
       "array([[1, 2],\n",
       "       [3, 4],\n",
       "       [3, 4]])"
      ]
     },
     "execution_count": 28,
     "metadata": {},
     "output_type": "execute_result"
    }
   ],
   "source": [
    "npa2d.astype('int')"
   ]
  },
  {
   "cell_type": "code",
   "execution_count": 31,
   "id": "d933d307",
   "metadata": {},
   "outputs": [],
   "source": [
    "npa2d = npa2d.astype('str')"
   ]
  },
  {
   "cell_type": "code",
   "execution_count": 32,
   "id": "cddbc807",
   "metadata": {},
   "outputs": [
    {
     "data": {
      "text/plain": [
       "'1.01'"
      ]
     },
     "execution_count": 32,
     "metadata": {},
     "output_type": "execute_result"
    }
   ],
   "source": [
    "npa2d[0][0] + str(1)"
   ]
  },
  {
   "cell_type": "markdown",
   "id": "26868214",
   "metadata": {},
   "source": [
    "### np.nan and np.inf"
   ]
  },
  {
   "cell_type": "code",
   "execution_count": 33,
   "id": "7572b553",
   "metadata": {},
   "outputs": [
    {
     "data": {
      "text/plain": [
       "False"
      ]
     },
     "execution_count": 33,
     "metadata": {},
     "output_type": "execute_result"
    }
   ],
   "source": [
    "np.nan == np.nan"
   ]
  },
  {
   "cell_type": "code",
   "execution_count": 35,
   "id": "538ff774",
   "metadata": {},
   "outputs": [
    {
     "data": {
      "text/plain": [
       "True"
      ]
     },
     "execution_count": 35,
     "metadata": {},
     "output_type": "execute_result"
    }
   ],
   "source": [
    "np.inf == np.inf"
   ]
  },
  {
   "cell_type": "code",
   "execution_count": 36,
   "id": "e85625ed",
   "metadata": {},
   "outputs": [
    {
     "data": {
      "text/plain": [
       "True"
      ]
     },
     "execution_count": 36,
     "metadata": {},
     "output_type": "execute_result"
    }
   ],
   "source": [
    "None == None"
   ]
  },
  {
   "cell_type": "code",
   "execution_count": 39,
   "id": "8971c19c",
   "metadata": {},
   "outputs": [],
   "source": [
    "npa2d = npa2d.astype('float') "
   ]
  },
  {
   "cell_type": "code",
   "execution_count": 40,
   "id": "078ca3a6",
   "metadata": {},
   "outputs": [
    {
     "data": {
      "text/plain": [
       "array([[1., 2.],\n",
       "       [3., 4.],\n",
       "       [3., 4.]])"
      ]
     },
     "execution_count": 40,
     "metadata": {},
     "output_type": "execute_result"
    }
   ],
   "source": [
    "npa2d"
   ]
  },
  {
   "cell_type": "code",
   "execution_count": 41,
   "id": "0c10943e",
   "metadata": {},
   "outputs": [
    {
     "data": {
      "text/plain": [
       "array([[1, 2],\n",
       "       [3, 4],\n",
       "       [3, 4]])"
      ]
     },
     "execution_count": 41,
     "metadata": {},
     "output_type": "execute_result"
    }
   ],
   "source": [
    "npa2d.astype('int')"
   ]
  },
  {
   "cell_type": "code",
   "execution_count": 42,
   "id": "26b5121c",
   "metadata": {},
   "outputs": [],
   "source": [
    "npa2d[0][0] = np.nan\n",
    "npa2d[1][1] = np.inf"
   ]
  },
  {
   "cell_type": "code",
   "execution_count": 43,
   "id": "e4f3c92f",
   "metadata": {},
   "outputs": [
    {
     "data": {
      "text/plain": [
       "array([[nan,  2.],\n",
       "       [ 3., inf],\n",
       "       [ 3.,  4.]])"
      ]
     },
     "execution_count": 43,
     "metadata": {},
     "output_type": "execute_result"
    }
   ],
   "source": [
    "npa2d"
   ]
  },
  {
   "cell_type": "code",
   "execution_count": 44,
   "id": "d1bf6084",
   "metadata": {},
   "outputs": [
    {
     "data": {
      "text/plain": [
       "array([[ True, False],\n",
       "       [False, False],\n",
       "       [False, False]])"
      ]
     },
     "execution_count": 44,
     "metadata": {},
     "output_type": "execute_result"
    }
   ],
   "source": [
    "np.isnan(npa2d)"
   ]
  },
  {
   "cell_type": "code",
   "execution_count": 45,
   "id": "88c66027",
   "metadata": {},
   "outputs": [
    {
     "data": {
      "text/plain": [
       "array([[False, False],\n",
       "       [False,  True],\n",
       "       [False, False]])"
      ]
     },
     "execution_count": 45,
     "metadata": {},
     "output_type": "execute_result"
    }
   ],
   "source": [
    "np.isinf(npa2d)"
   ]
  },
  {
   "cell_type": "code",
   "execution_count": 46,
   "id": "ab3113ec",
   "metadata": {},
   "outputs": [
    {
     "data": {
      "text/plain": [
       "array([[ True, False],\n",
       "       [False,  True],\n",
       "       [False, False]])"
      ]
     },
     "execution_count": 46,
     "metadata": {},
     "output_type": "execute_result"
    }
   ],
   "source": [
    "flag = np.isnan(npa2d) | np.isinf(npa2d)\n",
    "flag"
   ]
  },
  {
   "cell_type": "code",
   "execution_count": 47,
   "id": "002020f2",
   "metadata": {},
   "outputs": [
    {
     "data": {
      "text/plain": [
       "array([nan, inf])"
      ]
     },
     "execution_count": 47,
     "metadata": {},
     "output_type": "execute_result"
    }
   ],
   "source": [
    "npa2d[flag]"
   ]
  },
  {
   "cell_type": "code",
   "execution_count": 48,
   "id": "8dbe62e2",
   "metadata": {},
   "outputs": [
    {
     "data": {
      "text/plain": [
       "array([[0., 2.],\n",
       "       [3., 0.],\n",
       "       [3., 4.]])"
      ]
     },
     "execution_count": 48,
     "metadata": {},
     "output_type": "execute_result"
    }
   ],
   "source": [
    "npa2d[flag] = 0\n",
    "npa2d"
   ]
  },
  {
   "cell_type": "markdown",
   "id": "530795d5",
   "metadata": {},
   "source": [
    "### Statistical Operations \n"
   ]
  },
  {
   "cell_type": "markdown",
   "id": "450d24d2",
   "metadata": {},
   "source": [
    "mean, variance, standard deviation using Numpy:(Its important during feature Extraction)"
   ]
  },
  {
   "cell_type": "code",
   "execution_count": 49,
   "id": "89a65dd1",
   "metadata": {},
   "outputs": [
    {
     "data": {
      "text/plain": [
       "array([[0., 2.],\n",
       "       [3., 0.],\n",
       "       [3., 4.]])"
      ]
     },
     "execution_count": 49,
     "metadata": {},
     "output_type": "execute_result"
    }
   ],
   "source": [
    "npa2d"
   ]
  },
  {
   "cell_type": "code",
   "execution_count": 50,
   "id": "1e9c6282",
   "metadata": {},
   "outputs": [
    {
     "data": {
      "text/plain": [
       "2.0"
      ]
     },
     "execution_count": 50,
     "metadata": {},
     "output_type": "execute_result"
    }
   ],
   "source": [
    "npa2d.mean()"
   ]
  },
  {
   "cell_type": "code",
   "execution_count": 51,
   "id": "5e2abdd7",
   "metadata": {},
   "outputs": [
    {
     "data": {
      "text/plain": [
       "0.0"
      ]
     },
     "execution_count": 51,
     "metadata": {},
     "output_type": "execute_result"
    }
   ],
   "source": [
    "npa2d.min()"
   ]
  },
  {
   "cell_type": "code",
   "execution_count": 52,
   "id": "e45d6987",
   "metadata": {},
   "outputs": [
    {
     "data": {
      "text/plain": [
       "4.0"
      ]
     },
     "execution_count": 52,
     "metadata": {},
     "output_type": "execute_result"
    }
   ],
   "source": [
    "npa2d.max()"
   ]
  },
  {
   "cell_type": "code",
   "execution_count": 53,
   "id": "54532552",
   "metadata": {},
   "outputs": [
    {
     "data": {
      "text/plain": [
       "1.5275252316519468"
      ]
     },
     "execution_count": 53,
     "metadata": {},
     "output_type": "execute_result"
    }
   ],
   "source": [
    "npa2d.std()"
   ]
  },
  {
   "cell_type": "code",
   "execution_count": 54,
   "id": "b1547833",
   "metadata": {},
   "outputs": [
    {
     "data": {
      "text/plain": [
       "2.3333333333333335"
      ]
     },
     "execution_count": 54,
     "metadata": {},
     "output_type": "execute_result"
    }
   ],
   "source": [
    "npa2d.var()"
   ]
  },
  {
   "cell_type": "code",
   "execution_count": 57,
   "id": "07c30a2a",
   "metadata": {},
   "outputs": [
    {
     "data": {
      "text/plain": [
       "2.5"
      ]
     },
     "execution_count": 57,
     "metadata": {},
     "output_type": "execute_result"
    }
   ],
   "source": [
    "np.median(npa2d)"
   ]
  },
  {
   "cell_type": "markdown",
   "id": "99eba048",
   "metadata": {},
   "source": [
    "### Shape(), Reshape(), Ravel()"
   ]
  },
  {
   "cell_type": "code",
   "execution_count": 58,
   "id": "38148d5d",
   "metadata": {},
   "outputs": [
    {
     "data": {
      "text/plain": [
       "array([[0., 2.],\n",
       "       [3., 0.],\n",
       "       [3., 4.]])"
      ]
     },
     "execution_count": 58,
     "metadata": {},
     "output_type": "execute_result"
    }
   ],
   "source": [
    "npa2d"
   ]
  },
  {
   "cell_type": "code",
   "execution_count": 59,
   "id": "60364b91",
   "metadata": {},
   "outputs": [
    {
     "data": {
      "text/plain": [
       "(3, 2)"
      ]
     },
     "execution_count": 59,
     "metadata": {},
     "output_type": "execute_result"
    }
   ],
   "source": [
    "npa2d.shape"
   ]
  },
  {
   "cell_type": "code",
   "execution_count": 62,
   "id": "2e281f85",
   "metadata": {},
   "outputs": [
    {
     "data": {
      "text/plain": [
       "array([[0., 2., 3.],\n",
       "       [0., 3., 4.]])"
      ]
     },
     "execution_count": 62,
     "metadata": {},
     "output_type": "execute_result"
    }
   ],
   "source": [
    "npa2d.reshape(2, 3)"
   ]
  },
  {
   "cell_type": "code",
   "execution_count": 64,
   "id": "849a2497",
   "metadata": {},
   "outputs": [
    {
     "data": {
      "text/plain": [
       "array([[0., 2., 3., 0., 3., 4.]])"
      ]
     },
     "execution_count": 64,
     "metadata": {},
     "output_type": "execute_result"
    }
   ],
   "source": [
    "npa2d.reshape(1, 6)"
   ]
  },
  {
   "cell_type": "markdown",
   "id": "4b575c91",
   "metadata": {},
   "source": [
    "### Ravel() helps in converting 2d to 1d "
   ]
  },
  {
   "cell_type": "code",
   "execution_count": 65,
   "id": "794507b1",
   "metadata": {},
   "outputs": [
    {
     "data": {
      "text/plain": [
       "array([0., 2., 3., 0., 3., 4.])"
      ]
     },
     "execution_count": 65,
     "metadata": {},
     "output_type": "execute_result"
    }
   ],
   "source": [
    "npa2d.reshape(1, 6).ravel()"
   ]
  },
  {
   "cell_type": "markdown",
   "id": "733f8163",
   "metadata": {},
   "source": [
    "We, can also use flatten to do the same"
   ]
  },
  {
   "cell_type": "code",
   "execution_count": 66,
   "id": "d4260210",
   "metadata": {},
   "outputs": [
    {
     "data": {
      "text/plain": [
       "array([0., 2., 3., 0., 3., 4.])"
      ]
     },
     "execution_count": 66,
     "metadata": {},
     "output_type": "execute_result"
    }
   ],
   "source": [
    "npa2d.reshape(1, 6).flatten()"
   ]
  },
  {
   "cell_type": "markdown",
   "id": "de15b622",
   "metadata": {},
   "source": [
    "### Sequence, repetitions and random numbers "
   ]
  },
  {
   "cell_type": "markdown",
   "id": "370f5f1d",
   "metadata": {},
   "source": [
    "#### arange(), linspace(), random(), zeros(), and ones() "
   ]
  },
  {
   "cell_type": "markdown",
   "id": "a0670c06",
   "metadata": {},
   "source": [
    "It is used to arrange the number within a range:>"
   ]
  },
  {
   "cell_type": "markdown",
   "id": "33219475",
   "metadata": {},
   "source": [
    "With this np.arange() we create a array where the difference b/w the two consecutive numbers are equal"
   ]
  },
  {
   "cell_type": "code",
   "execution_count": 69,
   "id": "a07c2cea",
   "metadata": {},
   "outputs": [
    {
     "data": {
      "text/plain": [
       "array([1., 2., 3., 4.])"
      ]
     },
     "execution_count": 69,
     "metadata": {},
     "output_type": "execute_result"
    }
   ],
   "source": [
    "np.arange(1, 5, dtype = 'float')"
   ]
  },
  {
   "cell_type": "code",
   "execution_count": 73,
   "id": "498a3d93",
   "metadata": {},
   "outputs": [
    {
     "data": {
      "text/plain": [
       "array([ 1,  3,  5,  7,  9, 11, 13, 15, 17, 19])"
      ]
     },
     "execution_count": 73,
     "metadata": {},
     "output_type": "execute_result"
    }
   ],
   "source": [
    "np.arange(1, 20, 2)"
   ]
  },
  {
   "cell_type": "markdown",
   "id": "8f3c89a5",
   "metadata": {},
   "source": [
    "with linspace() we create an array where the difference b/w these consecutive numbers depends on how many values we want in that particular array"
   ]
  },
  {
   "cell_type": "code",
   "execution_count": 76,
   "id": "f94af1d9",
   "metadata": {},
   "outputs": [
    {
     "data": {
      "text/plain": [
       "array([ 1. , 10.5, 20. ])"
      ]
     },
     "execution_count": 76,
     "metadata": {},
     "output_type": "execute_result"
    }
   ],
   "source": [
    "np.linspace(1, 20, 3)"
   ]
  },
  {
   "cell_type": "markdown",
   "id": "e928dd62",
   "metadata": {},
   "source": [
    "Here, while using linspace(), the third argument does not defines the steps, it defines the exact number that is to be shown if there is 3 then there will be 3 numbers:>"
   ]
  },
  {
   "cell_type": "code",
   "execution_count": 77,
   "id": "0b6aaeca",
   "metadata": {},
   "outputs": [
    {
     "data": {
      "text/plain": [
       "array([ 1.  ,  5.75, 10.5 , 15.25, 20.  ])"
      ]
     },
     "execution_count": 77,
     "metadata": {},
     "output_type": "execute_result"
    }
   ],
   "source": [
    "np.linspace(1, 20, 5)"
   ]
  },
  {
   "cell_type": "markdown",
   "id": "022363a2",
   "metadata": {},
   "source": [
    "logspace() is used to generate the array log values are generated "
   ]
  },
  {
   "cell_type": "code",
   "execution_count": 79,
   "id": "c41f9c50",
   "metadata": {},
   "outputs": [
    {
     "data": {
      "text/plain": [
       "array([1.00000000e+01, 2.78255940e+06, 7.74263683e+11, 2.15443469e+17,\n",
       "       5.99484250e+22, 1.66810054e+28, 4.64158883e+33, 1.29154967e+39,\n",
       "       3.59381366e+44, 1.00000000e+50])"
      ]
     },
     "execution_count": 79,
     "metadata": {},
     "output_type": "execute_result"
    }
   ],
   "source": [
    "np.logspace(1, 50, 10)"
   ]
  },
  {
   "cell_type": "markdown",
   "id": "761f3c84",
   "metadata": {},
   "source": [
    "It helps in generating the array, which will contains zeroes inside it."
   ]
  },
  {
   "cell_type": "code",
   "execution_count": 80,
   "id": "a195a68b",
   "metadata": {},
   "outputs": [
    {
     "data": {
      "text/plain": [
       "array([[0., 0., 0., 0., 0., 0.]])"
      ]
     },
     "execution_count": 80,
     "metadata": {},
     "output_type": "execute_result"
    }
   ],
   "source": [
    "np.zeros([1, 6])"
   ]
  },
  {
   "cell_type": "code",
   "execution_count": 81,
   "id": "b7d6dafa",
   "metadata": {},
   "outputs": [
    {
     "data": {
      "text/plain": [
       "array([[[0., 0., 0.],\n",
       "        [0., 0., 0.]]])"
      ]
     },
     "execution_count": 81,
     "metadata": {},
     "output_type": "execute_result"
    }
   ],
   "source": [
    "np.zeros([1,2,3])"
   ]
  },
  {
   "cell_type": "code",
   "execution_count": null,
   "id": "b13c08c4",
   "metadata": {},
   "outputs": [],
   "source": []
  },
  {
   "cell_type": "code",
   "execution_count": 82,
   "id": "d5abfa30",
   "metadata": {},
   "outputs": [
    {
     "data": {
      "text/plain": [
       "array([[1., 1.]])"
      ]
     },
     "execution_count": 82,
     "metadata": {},
     "output_type": "execute_result"
    }
   ],
   "source": [
    "np.ones([1, 2])"
   ]
  },
  {
   "cell_type": "code",
   "execution_count": 83,
   "id": "3824681e",
   "metadata": {},
   "outputs": [
    {
     "data": {
      "text/plain": [
       "array([[1., 1., 1., 1., 1., 1., 1., 1., 1., 1.]])"
      ]
     },
     "execution_count": 83,
     "metadata": {},
     "output_type": "execute_result"
    }
   ],
   "source": [
    "np.ones([1, 10])"
   ]
  },
  {
   "cell_type": "markdown",
   "id": "7b05f667",
   "metadata": {},
   "source": [
    "Tile means we want to repeat the particular sequence, "
   ]
  },
  {
   "cell_type": "code",
   "execution_count": 85,
   "id": "17a8800a",
   "metadata": {},
   "outputs": [
    {
     "data": {
      "text/plain": [
       "array([1, 2, 1, 2, 1, 2])"
      ]
     },
     "execution_count": 85,
     "metadata": {},
     "output_type": "execute_result"
    }
   ],
   "source": [
    "np.tile([1,2], 3)"
   ]
  },
  {
   "cell_type": "markdown",
   "id": "f9f12839",
   "metadata": {},
   "source": [
    "In the same way we can do repeat by using repeat()"
   ]
  },
  {
   "cell_type": "code",
   "execution_count": 86,
   "id": "dfe3a5a0",
   "metadata": {},
   "outputs": [
    {
     "data": {
      "text/plain": [
       "array([1, 1, 1, 2, 2, 2])"
      ]
     },
     "execution_count": 86,
     "metadata": {},
     "output_type": "execute_result"
    }
   ],
   "source": [
    "np.repeat([1,2], 3)"
   ]
  },
  {
   "cell_type": "markdown",
   "id": "98a927f8",
   "metadata": {},
   "source": [
    "The difference between np.tile() and np.repeat() is that tile works by concatenating the whole list together whereas, repeat() first concatenate the first element of the list, then the second element of the list"
   ]
  },
  {
   "cell_type": "markdown",
   "id": "66511ce1",
   "metadata": {},
   "source": [
    "### np.random()"
   ]
  },
  {
   "cell_type": "markdown",
   "id": "4e4b7a50",
   "metadata": {},
   "source": [
    "It is used to generate random number of array\n"
   ]
  },
  {
   "cell_type": "code",
   "execution_count": 91,
   "id": "d73513d4",
   "metadata": {},
   "outputs": [
    {
     "data": {
      "text/plain": [
       "array([[0.22279434, 0.2267309 , 0.13515835],\n",
       "       [0.82732842, 0.46846743, 0.65063691],\n",
       "       [0.13848353, 0.54969032, 0.78034569]])"
      ]
     },
     "execution_count": 91,
     "metadata": {},
     "output_type": "execute_result"
    }
   ],
   "source": [
    "np.random.rand(3, 3)"
   ]
  },
  {
   "cell_type": "markdown",
   "id": "ca5f527d",
   "metadata": {},
   "source": [
    "randint() is used to generate random integer numbers"
   ]
  },
  {
   "cell_type": "code",
   "execution_count": 89,
   "id": "e786891d",
   "metadata": {},
   "outputs": [
    {
     "data": {
      "text/plain": [
       "array([[9, 8, 9],\n",
       "       [8, 0, 4],\n",
       "       [3, 7, 9]])"
      ]
     },
     "execution_count": 89,
     "metadata": {},
     "output_type": "execute_result"
    }
   ],
   "source": [
    "np.random.randint(0, 10, [3, 3])"
   ]
  },
  {
   "cell_type": "markdown",
   "id": "f30635ac",
   "metadata": {},
   "source": [
    "random.seed() is used to fix the random number "
   ]
  },
  {
   "cell_type": "code",
   "execution_count": 100,
   "id": "a93fc0f3",
   "metadata": {},
   "outputs": [
    {
     "data": {
      "text/plain": [
       "array([[5, 8, 9],\n",
       "       [5, 0, 0],\n",
       "       [1, 7, 6]])"
      ]
     },
     "execution_count": 100,
     "metadata": {},
     "output_type": "execute_result"
    }
   ],
   "source": [
    "np.random.seed(1)\n",
    "np.random.randint(0, 10, [3, 3])"
   ]
  },
  {
   "cell_type": "markdown",
   "id": "f5f55310",
   "metadata": {},
   "source": [
    "### np.unique()"
   ]
  },
  {
   "cell_type": "markdown",
   "id": "05b43a2f",
   "metadata": {},
   "source": [
    "It is used to generate the unique numbers inside the array"
   ]
  },
  {
   "cell_type": "code",
   "execution_count": 101,
   "id": "46e98ed0",
   "metadata": {},
   "outputs": [
    {
     "data": {
      "text/plain": [
       "array([0., 2., 3., 4.])"
      ]
     },
     "execution_count": 101,
     "metadata": {},
     "output_type": "execute_result"
    }
   ],
   "source": [
    "np.unique(npa2d)"
   ]
  },
  {
   "cell_type": "markdown",
   "id": "96ee4f4e",
   "metadata": {},
   "source": [
    "If, we have to find the frequency of the unique number then we'll use return_counts, which will give the frequency"
   ]
  },
  {
   "cell_type": "code",
   "execution_count": 103,
   "id": "a9703b4b",
   "metadata": {},
   "outputs": [
    {
     "data": {
      "text/plain": [
       "(array([0., 2., 3., 4.]), array([2, 1, 2, 1]))"
      ]
     },
     "execution_count": 103,
     "metadata": {},
     "output_type": "execute_result"
    }
   ],
   "source": [
    "np.unique(npa2d, return_counts=True)"
   ]
  },
  {
   "cell_type": "markdown",
   "id": "82f2b891",
   "metadata": {},
   "source": [
    "### Where()"
   ]
  },
  {
   "cell_type": "code",
   "execution_count": 104,
   "id": "3c17435f",
   "metadata": {},
   "outputs": [],
   "source": [
    "arr = np.array([2,3,4,5,56,767,78,89,123])"
   ]
  },
  {
   "cell_type": "code",
   "execution_count": 105,
   "id": "f707435d",
   "metadata": {},
   "outputs": [
    {
     "data": {
      "text/plain": [
       "array([  2,   3,   4,   5,  56, 767,  78,  89, 123])"
      ]
     },
     "execution_count": 105,
     "metadata": {},
     "output_type": "execute_result"
    }
   ],
   "source": [
    "arr"
   ]
  },
  {
   "cell_type": "code",
   "execution_count": 106,
   "id": "87c1a1aa",
   "metadata": {},
   "outputs": [
    {
     "data": {
      "text/plain": [
       "(array([4, 5, 6, 7, 8]),)"
      ]
     },
     "execution_count": 106,
     "metadata": {},
     "output_type": "execute_result"
    }
   ],
   "source": [
    "np.where(arr>10)"
   ]
  },
  {
   "cell_type": "markdown",
   "id": "21b562d7",
   "metadata": {},
   "source": [
    "Where is used here to give the condition clause inside the array"
   ]
  },
  {
   "cell_type": "code",
   "execution_count": 107,
   "id": "735a3dec",
   "metadata": {},
   "outputs": [
    {
     "data": {
      "text/plain": [
       "array([ 56, 767,  78,  89, 123])"
      ]
     },
     "execution_count": 107,
     "metadata": {},
     "output_type": "execute_result"
    }
   ],
   "source": [
    "index = np.where(arr>10)\n",
    "arr[index]"
   ]
  },
  {
   "cell_type": "code",
   "execution_count": 108,
   "id": "a4d13cc3",
   "metadata": {},
   "outputs": [
    {
     "data": {
      "text/plain": [
       "array([2, 3, 4, 5])"
      ]
     },
     "execution_count": 108,
     "metadata": {},
     "output_type": "execute_result"
    }
   ],
   "source": [
    "index = np.where(arr<10)\n",
    "arr[index]"
   ]
  },
  {
   "cell_type": "code",
   "execution_count": 111,
   "id": "32a07cad",
   "metadata": {},
   "outputs": [
    {
     "data": {
      "text/plain": [
       "array([56])"
      ]
     },
     "execution_count": 111,
     "metadata": {},
     "output_type": "execute_result"
    }
   ],
   "source": [
    "index = np.where(arr==56)\n",
    "arr[index]"
   ]
  },
  {
   "cell_type": "markdown",
   "id": "c2b7e523",
   "metadata": {},
   "source": [
    "To find the argument of the maximum number "
   ]
  },
  {
   "cell_type": "code",
   "execution_count": 112,
   "id": "b78ca4d4",
   "metadata": {},
   "outputs": [
    {
     "data": {
      "text/plain": [
       "5"
      ]
     },
     "execution_count": 112,
     "metadata": {},
     "output_type": "execute_result"
    }
   ],
   "source": [
    "arr.argmax()"
   ]
  },
  {
   "cell_type": "markdown",
   "id": "5d8adc6c",
   "metadata": {},
   "source": [
    "To find the argumnent of the minimum number "
   ]
  },
  {
   "cell_type": "code",
   "execution_count": 113,
   "id": "ce11d752",
   "metadata": {},
   "outputs": [
    {
     "data": {
      "text/plain": [
       "0"
      ]
     },
     "execution_count": 113,
     "metadata": {},
     "output_type": "execute_result"
    }
   ],
   "source": [
    "arr.argmin()"
   ]
  },
  {
   "cell_type": "markdown",
   "id": "7e00b6cc",
   "metadata": {},
   "source": [
    "### File Read and Write"
   ]
  },
  {
   "cell_type": "code",
   "execution_count": 114,
   "id": "0a3967a1",
   "metadata": {},
   "outputs": [
    {
     "data": {
      "text/plain": [
       "array([[0., 2.],\n",
       "       [3., 0.],\n",
       "       [3., 4.]])"
      ]
     },
     "execution_count": 114,
     "metadata": {},
     "output_type": "execute_result"
    }
   ],
   "source": [
    "npa2d"
   ]
  },
  {
   "cell_type": "code",
   "execution_count": 115,
   "id": "649ce059",
   "metadata": {},
   "outputs": [],
   "source": [
    "np.savetxt('npa2d.csv', npa2d, delimiter=',')"
   ]
  },
  {
   "cell_type": "code",
   "execution_count": 117,
   "id": "9f0251bb",
   "metadata": {},
   "outputs": [
    {
     "data": {
      "text/plain": [
       "array([[0., 2.],\n",
       "       [3., 0.],\n",
       "       [3., 4.]])"
      ]
     },
     "execution_count": 117,
     "metadata": {},
     "output_type": "execute_result"
    }
   ],
   "source": [
    "np.loadtxt('npa2d.csv', delimiter=',')"
   ]
  },
  {
   "cell_type": "markdown",
   "id": "8ff85fab",
   "metadata": {},
   "source": [
    "Save the values in byte format by using np.save()"
   ]
  },
  {
   "cell_type": "code",
   "execution_count": 118,
   "id": "7d3c7514",
   "metadata": {},
   "outputs": [],
   "source": [
    "np.save('data.npy', npa2d)"
   ]
  },
  {
   "cell_type": "code",
   "execution_count": 119,
   "id": "fa26bc3e",
   "metadata": {},
   "outputs": [
    {
     "data": {
      "text/plain": [
       "array([[0., 2.],\n",
       "       [3., 0.],\n",
       "       [3., 4.]])"
      ]
     },
     "execution_count": 119,
     "metadata": {},
     "output_type": "execute_result"
    }
   ],
   "source": [
    "np.load('data.npy')"
   ]
  },
  {
   "cell_type": "markdown",
   "id": "0ec69b71",
   "metadata": {},
   "source": [
    "#### Saving 2 arrays together using np.savez()"
   ]
  },
  {
   "cell_type": "code",
   "execution_count": 120,
   "id": "bd23e7ba",
   "metadata": {},
   "outputs": [],
   "source": [
    "np.savez('both.npz', arr, npa2d)"
   ]
  },
  {
   "cell_type": "code",
   "execution_count": 121,
   "id": "9b8e1c3b",
   "metadata": {},
   "outputs": [
    {
     "data": {
      "text/plain": [
       "<numpy.lib.npyio.NpzFile at 0x7f7b3396b9d0>"
      ]
     },
     "execution_count": 121,
     "metadata": {},
     "output_type": "execute_result"
    }
   ],
   "source": [
    "np.load('both.npz')"
   ]
  },
  {
   "cell_type": "code",
   "execution_count": 123,
   "id": "e34a697b",
   "metadata": {},
   "outputs": [],
   "source": [
    "d = np.load('both.npz')"
   ]
  },
  {
   "cell_type": "code",
   "execution_count": 125,
   "id": "e3fc4357",
   "metadata": {},
   "outputs": [
    {
     "data": {
      "text/plain": [
       "array([[0., 2.],\n",
       "       [3., 0.],\n",
       "       [3., 4.]])"
      ]
     },
     "execution_count": 125,
     "metadata": {},
     "output_type": "execute_result"
    }
   ],
   "source": [
    "d[d.files[1]]"
   ]
  },
  {
   "cell_type": "markdown",
   "id": "00a15719",
   "metadata": {},
   "source": [
    "### Concatenate And Sorting"
   ]
  },
  {
   "cell_type": "code",
   "execution_count": 126,
   "id": "fe33e126",
   "metadata": {
    "scrolled": true
   },
   "outputs": [
    {
     "data": {
      "text/plain": [
       "array([[0., 2.],\n",
       "       [3., 0.],\n",
       "       [3., 4.]])"
      ]
     },
     "execution_count": 126,
     "metadata": {},
     "output_type": "execute_result"
    }
   ],
   "source": [
    "npa2d"
   ]
  },
  {
   "cell_type": "code",
   "execution_count": 135,
   "id": "a2142cbc",
   "metadata": {},
   "outputs": [
    {
     "data": {
      "text/plain": [
       "array([[0., 2.],\n",
       "       [3., 0.],\n",
       "       [3., 4.],\n",
       "       [0., 2.],\n",
       "       [3., 0.],\n",
       "       [3., 4.]])"
      ]
     },
     "execution_count": 135,
     "metadata": {},
     "output_type": "execute_result"
    }
   ],
   "source": [
    "#if axis=0 then it is vertical concatenated\n",
    "np.concatenate([npa2d, npa2d], axis = 0) "
   ]
  },
  {
   "cell_type": "code",
   "execution_count": 136,
   "id": "5056da19",
   "metadata": {},
   "outputs": [
    {
     "data": {
      "text/plain": [
       "array([[0., 2., 0., 2.],\n",
       "       [3., 0., 3., 0.],\n",
       "       [3., 4., 3., 4.]])"
      ]
     },
     "execution_count": 136,
     "metadata": {},
     "output_type": "execute_result"
    }
   ],
   "source": [
    "#if axis=1 then it is horizontal concatenated\n",
    "np.concatenate([npa2d, npa2d], axis = 1) "
   ]
  },
  {
   "cell_type": "markdown",
   "id": "c14e26c3",
   "metadata": {},
   "source": [
    "#### Concatenating vertically using np.vstack()"
   ]
  },
  {
   "cell_type": "code",
   "execution_count": 137,
   "id": "feb4086d",
   "metadata": {},
   "outputs": [
    {
     "data": {
      "text/plain": [
       "array([[0., 2.],\n",
       "       [3., 0.],\n",
       "       [3., 4.],\n",
       "       [0., 2.],\n",
       "       [3., 0.],\n",
       "       [3., 4.]])"
      ]
     },
     "execution_count": 137,
     "metadata": {},
     "output_type": "execute_result"
    }
   ],
   "source": [
    "np.vstack([npa2d, npa2d])"
   ]
  },
  {
   "cell_type": "markdown",
   "id": "4d12d954",
   "metadata": {},
   "source": [
    "#### Concatenating horizontally using np.hstack() "
   ]
  },
  {
   "cell_type": "code",
   "execution_count": 139,
   "id": "9e9a2145",
   "metadata": {},
   "outputs": [],
   "source": [
    "npa = np.hstack([npa2d, npa2d])"
   ]
  },
  {
   "cell_type": "markdown",
   "id": "e1e2007c",
   "metadata": {},
   "source": [
    "### Sorting  "
   ]
  },
  {
   "cell_type": "code",
   "execution_count": 140,
   "id": "c8030b58",
   "metadata": {},
   "outputs": [
    {
     "data": {
      "text/plain": [
       "array([[0., 2., 0., 2.],\n",
       "       [3., 0., 3., 0.],\n",
       "       [3., 4., 3., 4.]])"
      ]
     },
     "execution_count": 140,
     "metadata": {},
     "output_type": "execute_result"
    }
   ],
   "source": [
    "npa"
   ]
  },
  {
   "cell_type": "code",
   "execution_count": 143,
   "id": "606473ae",
   "metadata": {},
   "outputs": [],
   "source": [
    "# it sorts the array rows by rows\n",
    "npa.sort()"
   ]
  },
  {
   "cell_type": "code",
   "execution_count": 144,
   "id": "4c05cbab",
   "metadata": {},
   "outputs": [
    {
     "data": {
      "text/plain": [
       "array([[0., 0., 2., 2.],\n",
       "       [0., 0., 3., 3.],\n",
       "       [3., 3., 4., 4.]])"
      ]
     },
     "execution_count": 144,
     "metadata": {},
     "output_type": "execute_result"
    }
   ],
   "source": [
    "npa"
   ]
  },
  {
   "cell_type": "markdown",
   "id": "bd0dd55c",
   "metadata": {},
   "source": [
    "### Working With Dates"
   ]
  },
  {
   "cell_type": "code",
   "execution_count": 145,
   "id": "2760bdea",
   "metadata": {},
   "outputs": [],
   "source": [
    "d = np.datetime64('2020-12-01 23:34:19')"
   ]
  },
  {
   "cell_type": "code",
   "execution_count": 146,
   "id": "b3a0d91e",
   "metadata": {},
   "outputs": [
    {
     "data": {
      "text/plain": [
       "numpy.datetime64('2020-12-01T23:34:19')"
      ]
     },
     "execution_count": 146,
     "metadata": {},
     "output_type": "execute_result"
    }
   ],
   "source": [
    "d"
   ]
  },
  {
   "cell_type": "code",
   "execution_count": 148,
   "id": "f9d01908",
   "metadata": {},
   "outputs": [
    {
     "data": {
      "text/plain": [
       "numpy.datetime64('2020-12-01T23:34:29')"
      ]
     },
     "execution_count": 148,
     "metadata": {},
     "output_type": "execute_result"
    }
   ],
   "source": [
    "d + 10"
   ]
  },
  {
   "cell_type": "markdown",
   "id": "bb1f6c55",
   "metadata": {},
   "source": [
    "#### Creating one day"
   ]
  },
  {
   "cell_type": "code",
   "execution_count": 149,
   "id": "68b60560",
   "metadata": {},
   "outputs": [],
   "source": [
    "one_day = np.timedelta64(1, 'D')"
   ]
  },
  {
   "cell_type": "code",
   "execution_count": 150,
   "id": "e98dd9be",
   "metadata": {},
   "outputs": [
    {
     "data": {
      "text/plain": [
       "numpy.datetime64('2020-12-02T23:34:19')"
      ]
     },
     "execution_count": 150,
     "metadata": {},
     "output_type": "execute_result"
    }
   ],
   "source": [
    "d + one_day"
   ]
  },
  {
   "cell_type": "markdown",
   "id": "ef00998f",
   "metadata": {},
   "source": [
    "#### Add one minute"
   ]
  },
  {
   "cell_type": "code",
   "execution_count": 151,
   "id": "9ac99ab7",
   "metadata": {},
   "outputs": [],
   "source": [
    "oneminute = np.timedelta64(1, 'm')\n"
   ]
  },
  {
   "cell_type": "code",
   "execution_count": 152,
   "id": "3017d49e",
   "metadata": {},
   "outputs": [
    {
     "data": {
      "text/plain": [
       "numpy.datetime64('2020-12-01T23:35:19')"
      ]
     },
     "execution_count": 152,
     "metadata": {},
     "output_type": "execute_result"
    }
   ],
   "source": [
    "d+oneminute"
   ]
  },
  {
   "cell_type": "markdown",
   "id": "a7903cb5",
   "metadata": {},
   "source": [
    "## ---------------------------------------END-------------------------------"
   ]
  }
 ],
 "metadata": {
  "kernelspec": {
   "display_name": "Python 3 (ipykernel)",
   "language": "python",
   "name": "python3"
  },
  "language_info": {
   "codemirror_mode": {
    "name": "ipython",
    "version": 3
   },
   "file_extension": ".py",
   "mimetype": "text/x-python",
   "name": "python",
   "nbconvert_exporter": "python",
   "pygments_lexer": "ipython3",
   "version": "3.9.12"
  }
 },
 "nbformat": 4,
 "nbformat_minor": 5
}
